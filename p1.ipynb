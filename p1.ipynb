{
 "cells": [
  {
   "cell_type": "code",
   "execution_count": 2,
   "metadata": {},
   "outputs": [],
   "source": [
    "import pandas as pd\n",
    "import numpy as np\n",
    "import matplotlib.pyplot as plt\n",
    "import seaborn as sns"
   ]
  },
  {
   "cell_type": "code",
   "execution_count": 3,
   "metadata": {},
   "outputs": [],
   "source": [
    "df_1=pd.read_csv(\"pendigits-tes.csv\")\n",
    "df_2=pd.read_csv(\"pendigits-tra.csv\")"
   ]
  },
  {
   "cell_type": "code",
   "execution_count": 5,
   "metadata": {},
   "outputs": [
    {
     "data": {
      "text/html": [
       "<div>\n",
       "<style scoped>\n",
       "    .dataframe tbody tr th:only-of-type {\n",
       "        vertical-align: middle;\n",
       "    }\n",
       "\n",
       "    .dataframe tbody tr th {\n",
       "        vertical-align: top;\n",
       "    }\n",
       "\n",
       "    .dataframe thead th {\n",
       "        text-align: right;\n",
       "    }\n",
       "</style>\n",
       "<table border=\"1\" class=\"dataframe\">\n",
       "  <thead>\n",
       "    <tr style=\"text-align: right;\">\n",
       "      <th></th>\n",
       "      <th>88</th>\n",
       "      <th>92</th>\n",
       "      <th>2</th>\n",
       "      <th>99</th>\n",
       "      <th>16</th>\n",
       "      <th>66</th>\n",
       "      <th>94</th>\n",
       "      <th>37</th>\n",
       "      <th>70</th>\n",
       "      <th>0</th>\n",
       "      <th>0.1</th>\n",
       "      <th>24</th>\n",
       "      <th>42</th>\n",
       "      <th>65</th>\n",
       "      <th>100</th>\n",
       "      <th>100.1</th>\n",
       "      <th>8</th>\n",
       "    </tr>\n",
       "  </thead>\n",
       "  <tbody>\n",
       "    <tr>\n",
       "      <th>0</th>\n",
       "      <td>80</td>\n",
       "      <td>100</td>\n",
       "      <td>18</td>\n",
       "      <td>98</td>\n",
       "      <td>60</td>\n",
       "      <td>66</td>\n",
       "      <td>100</td>\n",
       "      <td>29</td>\n",
       "      <td>42</td>\n",
       "      <td>0</td>\n",
       "      <td>0</td>\n",
       "      <td>23</td>\n",
       "      <td>42</td>\n",
       "      <td>61</td>\n",
       "      <td>56</td>\n",
       "      <td>98</td>\n",
       "      <td>8</td>\n",
       "    </tr>\n",
       "    <tr>\n",
       "      <th>1</th>\n",
       "      <td>0</td>\n",
       "      <td>94</td>\n",
       "      <td>9</td>\n",
       "      <td>57</td>\n",
       "      <td>20</td>\n",
       "      <td>19</td>\n",
       "      <td>7</td>\n",
       "      <td>0</td>\n",
       "      <td>20</td>\n",
       "      <td>36</td>\n",
       "      <td>70</td>\n",
       "      <td>68</td>\n",
       "      <td>100</td>\n",
       "      <td>100</td>\n",
       "      <td>18</td>\n",
       "      <td>92</td>\n",
       "      <td>8</td>\n",
       "    </tr>\n",
       "    <tr>\n",
       "      <th>2</th>\n",
       "      <td>95</td>\n",
       "      <td>82</td>\n",
       "      <td>71</td>\n",
       "      <td>100</td>\n",
       "      <td>27</td>\n",
       "      <td>77</td>\n",
       "      <td>77</td>\n",
       "      <td>73</td>\n",
       "      <td>100</td>\n",
       "      <td>80</td>\n",
       "      <td>93</td>\n",
       "      <td>42</td>\n",
       "      <td>56</td>\n",
       "      <td>13</td>\n",
       "      <td>0</td>\n",
       "      <td>0</td>\n",
       "      <td>9</td>\n",
       "    </tr>\n",
       "    <tr>\n",
       "      <th>3</th>\n",
       "      <td>68</td>\n",
       "      <td>100</td>\n",
       "      <td>6</td>\n",
       "      <td>88</td>\n",
       "      <td>47</td>\n",
       "      <td>75</td>\n",
       "      <td>87</td>\n",
       "      <td>82</td>\n",
       "      <td>85</td>\n",
       "      <td>56</td>\n",
       "      <td>100</td>\n",
       "      <td>29</td>\n",
       "      <td>75</td>\n",
       "      <td>6</td>\n",
       "      <td>0</td>\n",
       "      <td>0</td>\n",
       "      <td>9</td>\n",
       "    </tr>\n",
       "    <tr>\n",
       "      <th>4</th>\n",
       "      <td>70</td>\n",
       "      <td>100</td>\n",
       "      <td>100</td>\n",
       "      <td>97</td>\n",
       "      <td>70</td>\n",
       "      <td>81</td>\n",
       "      <td>45</td>\n",
       "      <td>65</td>\n",
       "      <td>30</td>\n",
       "      <td>49</td>\n",
       "      <td>20</td>\n",
       "      <td>33</td>\n",
       "      <td>0</td>\n",
       "      <td>16</td>\n",
       "      <td>0</td>\n",
       "      <td>0</td>\n",
       "      <td>1</td>\n",
       "    </tr>\n",
       "  </tbody>\n",
       "</table>\n",
       "</div>"
      ],
      "text/plain": [
       "    88   92    2   99   16   66   94  ...    0.1   24   42   65  100  100.1   8\n",
       "0   80  100   18   98   60   66  100  ...      0   23   42   61   56     98   8\n",
       "1    0   94    9   57   20   19    7  ...     70   68  100  100   18     92   8\n",
       "2   95   82   71  100   27   77   77  ...     93   42   56   13    0      0   9\n",
       "3   68  100    6   88   47   75   87  ...    100   29   75    6    0      0   9\n",
       "4   70  100  100   97   70   81   45  ...     20   33    0   16    0      0   1\n",
       "\n",
       "[5 rows x 17 columns]"
      ]
     },
     "execution_count": 5,
     "metadata": {},
     "output_type": "execute_result"
    }
   ],
   "source": [
    "df_1.head()"
   ]
  },
  {
   "cell_type": "code",
   "execution_count": 6,
   "metadata": {},
   "outputs": [
    {
     "data": {
      "text/html": [
       "<div>\n",
       "<style scoped>\n",
       "    .dataframe tbody tr th:only-of-type {\n",
       "        vertical-align: middle;\n",
       "    }\n",
       "\n",
       "    .dataframe tbody tr th {\n",
       "        vertical-align: top;\n",
       "    }\n",
       "\n",
       "    .dataframe thead th {\n",
       "        text-align: right;\n",
       "    }\n",
       "</style>\n",
       "<table border=\"1\" class=\"dataframe\">\n",
       "  <thead>\n",
       "    <tr style=\"text-align: right;\">\n",
       "      <th></th>\n",
       "      <th>47</th>\n",
       "      <th>100</th>\n",
       "      <th>27</th>\n",
       "      <th>81</th>\n",
       "      <th>57</th>\n",
       "      <th>37</th>\n",
       "      <th>26</th>\n",
       "      <th>0</th>\n",
       "      <th>0.1</th>\n",
       "      <th>23</th>\n",
       "      <th>56</th>\n",
       "      <th>53</th>\n",
       "      <th>100.1</th>\n",
       "      <th>90</th>\n",
       "      <th>40</th>\n",
       "      <th>98</th>\n",
       "      <th>8</th>\n",
       "    </tr>\n",
       "  </thead>\n",
       "  <tbody>\n",
       "    <tr>\n",
       "      <th>0</th>\n",
       "      <td>0</td>\n",
       "      <td>89</td>\n",
       "      <td>27</td>\n",
       "      <td>100</td>\n",
       "      <td>42</td>\n",
       "      <td>75</td>\n",
       "      <td>29</td>\n",
       "      <td>45</td>\n",
       "      <td>15</td>\n",
       "      <td>15</td>\n",
       "      <td>37</td>\n",
       "      <td>0</td>\n",
       "      <td>69</td>\n",
       "      <td>2</td>\n",
       "      <td>100</td>\n",
       "      <td>6</td>\n",
       "      <td>2</td>\n",
       "    </tr>\n",
       "    <tr>\n",
       "      <th>1</th>\n",
       "      <td>0</td>\n",
       "      <td>57</td>\n",
       "      <td>31</td>\n",
       "      <td>68</td>\n",
       "      <td>72</td>\n",
       "      <td>90</td>\n",
       "      <td>100</td>\n",
       "      <td>100</td>\n",
       "      <td>76</td>\n",
       "      <td>75</td>\n",
       "      <td>50</td>\n",
       "      <td>51</td>\n",
       "      <td>28</td>\n",
       "      <td>25</td>\n",
       "      <td>16</td>\n",
       "      <td>0</td>\n",
       "      <td>1</td>\n",
       "    </tr>\n",
       "    <tr>\n",
       "      <th>2</th>\n",
       "      <td>0</td>\n",
       "      <td>100</td>\n",
       "      <td>7</td>\n",
       "      <td>92</td>\n",
       "      <td>5</td>\n",
       "      <td>68</td>\n",
       "      <td>19</td>\n",
       "      <td>45</td>\n",
       "      <td>86</td>\n",
       "      <td>34</td>\n",
       "      <td>100</td>\n",
       "      <td>45</td>\n",
       "      <td>74</td>\n",
       "      <td>23</td>\n",
       "      <td>67</td>\n",
       "      <td>0</td>\n",
       "      <td>4</td>\n",
       "    </tr>\n",
       "    <tr>\n",
       "      <th>3</th>\n",
       "      <td>0</td>\n",
       "      <td>67</td>\n",
       "      <td>49</td>\n",
       "      <td>83</td>\n",
       "      <td>100</td>\n",
       "      <td>100</td>\n",
       "      <td>81</td>\n",
       "      <td>80</td>\n",
       "      <td>60</td>\n",
       "      <td>60</td>\n",
       "      <td>40</td>\n",
       "      <td>40</td>\n",
       "      <td>33</td>\n",
       "      <td>20</td>\n",
       "      <td>47</td>\n",
       "      <td>0</td>\n",
       "      <td>1</td>\n",
       "    </tr>\n",
       "    <tr>\n",
       "      <th>4</th>\n",
       "      <td>100</td>\n",
       "      <td>100</td>\n",
       "      <td>88</td>\n",
       "      <td>99</td>\n",
       "      <td>49</td>\n",
       "      <td>74</td>\n",
       "      <td>17</td>\n",
       "      <td>47</td>\n",
       "      <td>0</td>\n",
       "      <td>16</td>\n",
       "      <td>37</td>\n",
       "      <td>0</td>\n",
       "      <td>73</td>\n",
       "      <td>16</td>\n",
       "      <td>20</td>\n",
       "      <td>20</td>\n",
       "      <td>6</td>\n",
       "    </tr>\n",
       "  </tbody>\n",
       "</table>\n",
       "</div>"
      ],
      "text/plain": [
       "    47  100   27   81   57   37   26  ...   56   53  100.1   90   40   98   8\n",
       "0    0   89   27  100   42   75   29  ...   37    0     69    2  100    6   2\n",
       "1    0   57   31   68   72   90  100  ...   50   51     28   25   16    0   1\n",
       "2    0  100    7   92    5   68   19  ...  100   45     74   23   67    0   4\n",
       "3    0   67   49   83  100  100   81  ...   40   40     33   20   47    0   1\n",
       "4  100  100   88   99   49   74   17  ...   37    0     73   16   20   20   6\n",
       "\n",
       "[5 rows x 17 columns]"
      ]
     },
     "execution_count": 6,
     "metadata": {},
     "output_type": "execute_result"
    }
   ],
   "source": [
    "df_2.head()"
   ]
  },
  {
   "cell_type": "code",
   "execution_count": 7,
   "metadata": {},
   "outputs": [
    {
     "name": "stdout",
     "output_type": "stream",
     "text": [
      "<class 'pandas.core.frame.DataFrame'>\n",
      "RangeIndex: 3497 entries, 0 to 3496\n",
      "Data columns (total 17 columns):\n",
      " #   Column  Non-Null Count  Dtype\n",
      "---  ------  --------------  -----\n",
      " 0    88     3497 non-null   int64\n",
      " 1    92     3497 non-null   int64\n",
      " 2     2     3497 non-null   int64\n",
      " 3    99     3497 non-null   int64\n",
      " 4    16     3497 non-null   int64\n",
      " 5    66     3497 non-null   int64\n",
      " 6    94     3497 non-null   int64\n",
      " 7    37     3497 non-null   int64\n",
      " 8    70     3497 non-null   int64\n",
      " 9     0     3497 non-null   int64\n",
      " 10    0.1   3497 non-null   int64\n",
      " 11   24     3497 non-null   int64\n",
      " 12   42     3497 non-null   int64\n",
      " 13   65     3497 non-null   int64\n",
      " 14  100     3497 non-null   int64\n",
      " 15  100.1   3497 non-null   int64\n",
      " 16   8      3497 non-null   int64\n",
      "dtypes: int64(17)\n",
      "memory usage: 464.6 KB\n"
     ]
    }
   ],
   "source": [
    "df_1.info()\n"
   ]
  },
  {
   "cell_type": "code",
   "execution_count": 9,
   "metadata": {},
   "outputs": [
    {
     "data": {
      "text/plain": [
       "Index([' 88', ' 92', '  2', ' 99', ' 16', ' 66', ' 94', ' 37', ' 70', '  0',\n",
       "       '  0.1', ' 24', ' 42', ' 65', '100', '100.1', ' 8'],\n",
       "      dtype='object')"
      ]
     },
     "execution_count": 9,
     "metadata": {},
     "output_type": "execute_result"
    }
   ],
   "source": [
    "df_1.columns"
   ]
  },
  {
   "cell_type": "code",
   "execution_count": 10,
   "metadata": {},
   "outputs": [
    {
     "data": {
      "text/plain": [
       "Index([' 47', '100', ' 27', ' 81', ' 57', ' 37', ' 26', '  0', '  0.1', ' 23',\n",
       "       ' 56', ' 53', '100.1', ' 90', ' 40', ' 98', ' 8'],\n",
       "      dtype='object')"
      ]
     },
     "execution_count": 10,
     "metadata": {},
     "output_type": "execute_result"
    }
   ],
   "source": [
    "df_2.columns"
   ]
  },
  {
   "cell_type": "code",
   "execution_count": 11,
   "metadata": {},
   "outputs": [
    {
     "name": "stdout",
     "output_type": "stream",
     "text": [
      "<class 'pandas.core.frame.DataFrame'>\n",
      "RangeIndex: 3497 entries, 0 to 3496\n",
      "Data columns (total 17 columns):\n",
      " #   Column  Non-Null Count  Dtype\n",
      "---  ------  --------------  -----\n",
      " 0    88     3497 non-null   int64\n",
      " 1    92     3497 non-null   int64\n",
      " 2     2     3497 non-null   int64\n",
      " 3    99     3497 non-null   int64\n",
      " 4    16     3497 non-null   int64\n",
      " 5    66     3497 non-null   int64\n",
      " 6    94     3497 non-null   int64\n",
      " 7    37     3497 non-null   int64\n",
      " 8    70     3497 non-null   int64\n",
      " 9     0     3497 non-null   int64\n",
      " 10    0.1   3497 non-null   int64\n",
      " 11   24     3497 non-null   int64\n",
      " 12   42     3497 non-null   int64\n",
      " 13   65     3497 non-null   int64\n",
      " 14  100     3497 non-null   int64\n",
      " 15  100.1   3497 non-null   int64\n",
      " 16   8      3497 non-null   int64\n",
      "dtypes: int64(17)\n",
      "memory usage: 464.6 KB\n"
     ]
    }
   ],
   "source": [
    "df_1.info()"
   ]
  },
  {
   "cell_type": "code",
   "execution_count": 12,
   "metadata": {},
   "outputs": [
    {
     "name": "stdout",
     "output_type": "stream",
     "text": [
      "<class 'pandas.core.frame.DataFrame'>\n",
      "RangeIndex: 7493 entries, 0 to 7492\n",
      "Data columns (total 17 columns):\n",
      " #   Column  Non-Null Count  Dtype\n",
      "---  ------  --------------  -----\n",
      " 0    47     7493 non-null   int64\n",
      " 1   100     7493 non-null   int64\n",
      " 2    27     7493 non-null   int64\n",
      " 3    81     7493 non-null   int64\n",
      " 4    57     7493 non-null   int64\n",
      " 5    37     7493 non-null   int64\n",
      " 6    26     7493 non-null   int64\n",
      " 7     0     7493 non-null   int64\n",
      " 8     0.1   7493 non-null   int64\n",
      " 9    23     7493 non-null   int64\n",
      " 10   56     7493 non-null   int64\n",
      " 11   53     7493 non-null   int64\n",
      " 12  100.1   7493 non-null   int64\n",
      " 13   90     7493 non-null   int64\n",
      " 14   40     7493 non-null   int64\n",
      " 15   98     7493 non-null   int64\n",
      " 16   8      7493 non-null   int64\n",
      "dtypes: int64(17)\n",
      "memory usage: 995.3 KB\n"
     ]
    }
   ],
   "source": [
    "df_2.info()"
   ]
  },
  {
   "cell_type": "code",
   "execution_count": 14,
   "metadata": {},
   "outputs": [
    {
     "data": {
      "text/plain": [
       "(   input_0  input_1  input_2  input_3  ...  input_13  input_14  input_15  target\n",
       " 0        0       89       27      100  ...         2       100         6       2\n",
       " 1        0       57       31       68  ...        25        16         0       1\n",
       " 2        0      100        7       92  ...        23        67         0       4\n",
       " 3        0       67       49       83  ...        20        47         0       1\n",
       " 4      100      100       88       99  ...        16        20        20       6\n",
       " \n",
       " [5 rows x 17 columns],\n",
       "    input_0  input_1  input_2  input_3  ...  input_13  input_14  input_15  target\n",
       " 0       80      100       18       98  ...        61        56        98       8\n",
       " 1        0       94        9       57  ...       100        18        92       8\n",
       " 2       95       82       71      100  ...        13         0         0       9\n",
       " 3       68      100        6       88  ...         6         0         0       9\n",
       " 4       70      100      100       97  ...        16         0         0       1\n",
       " \n",
       " [5 rows x 17 columns])"
      ]
     },
     "execution_count": 14,
     "metadata": {},
     "output_type": "execute_result"
    }
   ],
   "source": [
    "col_names = [f'input_{i}' for i in range(16)] + ['target']\n",
    "\n",
    "df_2.columns = col_names\n",
    "df_1.columns = col_names\n",
    "\n",
    "df_2.head(), df_1.head()"
   ]
  },
  {
   "cell_type": "code",
   "execution_count": 15,
   "metadata": {},
   "outputs": [],
   "source": [
    "df_train=df_2.copy()\n",
    "df_test=df_1.copy()"
   ]
  },
  {
   "cell_type": "code",
   "execution_count": null,
   "metadata": {},
   "outputs": [],
   "source": []
  }
 ],
 "metadata": {
  "kernelspec": {
   "display_name": "base",
   "language": "python",
   "name": "python3"
  },
  "language_info": {
   "codemirror_mode": {
    "name": "ipython",
    "version": 3
   },
   "file_extension": ".py",
   "mimetype": "text/x-python",
   "name": "python",
   "nbconvert_exporter": "python",
   "pygments_lexer": "ipython3",
   "version": "3.12.9"
  }
 },
 "nbformat": 4,
 "nbformat_minor": 2
}
